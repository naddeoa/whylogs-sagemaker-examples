{
 "cells": [
  {
   "cell_type": "markdown",
   "metadata": {},
   "source": [
    "![alt text](https://whylabs-public.s3.us-west-2.amazonaws.com/assets/whylabs-logo-night-blue.svg)\n",
    "\n",
    "*Run AI with Certainty*\n",
    "\n",
    "# **Using WhyLabs with Sagemaker** "
   ]
  },
  {
   "cell_type": "code",
   "execution_count": 1,
   "metadata": {},
   "outputs": [
    {
     "name": "stdout",
     "output_type": "stream",
     "text": [
      "Requirement already satisfied: sagemaker in /home/anthony/workspace/sagemaker-example/.venv/lib/python3.10/site-packages (2.174.0)\n",
      "Requirement already satisfied: xgboost in /home/anthony/workspace/sagemaker-example/.venv/lib/python3.10/site-packages (2.0.1)\n",
      "Requirement already satisfied: python-dotenv in /home/anthony/workspace/sagemaker-example/.venv/lib/python3.10/site-packages (1.0.0)\n",
      "Requirement already satisfied: ipywidgets in /home/anthony/workspace/sagemaker-example/.venv/lib/python3.10/site-packages (8.1.0)\n",
      "Requirement already satisfied: attrs<24,>=23.1.0 in /home/anthony/workspace/sagemaker-example/.venv/lib/python3.10/site-packages (from sagemaker) (23.1.0)\n",
      "Requirement already satisfied: boto3<2.0,>=1.26.131 in /home/anthony/workspace/sagemaker-example/.venv/lib/python3.10/site-packages (from sagemaker) (1.28.18)\n",
      "Requirement already satisfied: cloudpickle==2.2.1 in /home/anthony/workspace/sagemaker-example/.venv/lib/python3.10/site-packages (from sagemaker) (2.2.1)\n",
      "Requirement already satisfied: google-pasta in /home/anthony/workspace/sagemaker-example/.venv/lib/python3.10/site-packages (from sagemaker) (0.2.0)\n",
      "Requirement already satisfied: numpy<2.0,>=1.9.0 in /home/anthony/workspace/sagemaker-example/.venv/lib/python3.10/site-packages (from sagemaker) (1.24.3)\n",
      "Requirement already satisfied: protobuf<5.0,>=3.12 in /home/anthony/workspace/sagemaker-example/.venv/lib/python3.10/site-packages (from sagemaker) (4.23.4)\n",
      "Requirement already satisfied: smdebug-rulesconfig==1.0.1 in /home/anthony/workspace/sagemaker-example/.venv/lib/python3.10/site-packages (from sagemaker) (1.0.1)\n",
      "Requirement already satisfied: importlib-metadata<7.0,>=1.4.0 in /home/anthony/workspace/sagemaker-example/.venv/lib/python3.10/site-packages (from sagemaker) (5.2.0)\n",
      "Requirement already satisfied: packaging>=20.0 in /home/anthony/workspace/sagemaker-example/.venv/lib/python3.10/site-packages (from sagemaker) (21.3)\n",
      "Requirement already satisfied: pandas in /home/anthony/workspace/sagemaker-example/.venv/lib/python3.10/site-packages (from sagemaker) (2.0.3)\n",
      "Requirement already satisfied: pathos in /home/anthony/workspace/sagemaker-example/.venv/lib/python3.10/site-packages (from sagemaker) (0.3.1)\n",
      "Requirement already satisfied: schema in /home/anthony/workspace/sagemaker-example/.venv/lib/python3.10/site-packages (from sagemaker) (0.7.5)\n",
      "Requirement already satisfied: PyYAML~=6.0 in /home/anthony/workspace/sagemaker-example/.venv/lib/python3.10/site-packages (from sagemaker) (6.0.1)\n",
      "Requirement already satisfied: jsonschema in /home/anthony/workspace/sagemaker-example/.venv/lib/python3.10/site-packages (from sagemaker) (4.18.6)\n",
      "Requirement already satisfied: platformdirs in /home/anthony/workspace/sagemaker-example/.venv/lib/python3.10/site-packages (from sagemaker) (3.10.0)\n",
      "Requirement already satisfied: tblib==1.7.0 in /home/anthony/workspace/sagemaker-example/.venv/lib/python3.10/site-packages (from sagemaker) (1.7.0)\n",
      "Requirement already satisfied: scipy in /home/anthony/workspace/sagemaker-example/.venv/lib/python3.10/site-packages (from xgboost) (1.11.2)\n",
      "Requirement already satisfied: comm>=0.1.3 in /home/anthony/workspace/sagemaker-example/.venv/lib/python3.10/site-packages (from ipywidgets) (0.1.4)\n",
      "Requirement already satisfied: ipython>=6.1.0 in /home/anthony/workspace/sagemaker-example/.venv/lib/python3.10/site-packages (from ipywidgets) (8.14.0)\n",
      "Requirement already satisfied: traitlets>=4.3.1 in /home/anthony/workspace/sagemaker-example/.venv/lib/python3.10/site-packages (from ipywidgets) (5.9.0)\n",
      "Requirement already satisfied: widgetsnbextension~=4.0.7 in /home/anthony/workspace/sagemaker-example/.venv/lib/python3.10/site-packages (from ipywidgets) (4.0.8)\n",
      "Requirement already satisfied: jupyterlab-widgets~=3.0.7 in /home/anthony/workspace/sagemaker-example/.venv/lib/python3.10/site-packages (from ipywidgets) (3.0.8)\n",
      "Requirement already satisfied: botocore<1.32.0,>=1.31.18 in /home/anthony/workspace/sagemaker-example/.venv/lib/python3.10/site-packages (from boto3<2.0,>=1.26.131->sagemaker) (1.31.18)\n",
      "Requirement already satisfied: jmespath<2.0.0,>=0.7.1 in /home/anthony/workspace/sagemaker-example/.venv/lib/python3.10/site-packages (from boto3<2.0,>=1.26.131->sagemaker) (1.0.1)\n",
      "Requirement already satisfied: s3transfer<0.7.0,>=0.6.0 in /home/anthony/workspace/sagemaker-example/.venv/lib/python3.10/site-packages (from boto3<2.0,>=1.26.131->sagemaker) (0.6.1)\n",
      "Requirement already satisfied: zipp>=0.5 in /home/anthony/workspace/sagemaker-example/.venv/lib/python3.10/site-packages (from importlib-metadata<7.0,>=1.4.0->sagemaker) (3.16.2)\n",
      "Requirement already satisfied: backcall in /home/anthony/workspace/sagemaker-example/.venv/lib/python3.10/site-packages (from ipython>=6.1.0->ipywidgets) (0.2.0)\n",
      "Requirement already satisfied: decorator in /home/anthony/workspace/sagemaker-example/.venv/lib/python3.10/site-packages (from ipython>=6.1.0->ipywidgets) (5.1.1)\n",
      "Requirement already satisfied: jedi>=0.16 in /home/anthony/workspace/sagemaker-example/.venv/lib/python3.10/site-packages (from ipython>=6.1.0->ipywidgets) (0.19.0)\n",
      "Requirement already satisfied: matplotlib-inline in /home/anthony/workspace/sagemaker-example/.venv/lib/python3.10/site-packages (from ipython>=6.1.0->ipywidgets) (0.1.6)\n",
      "Requirement already satisfied: pickleshare in /home/anthony/workspace/sagemaker-example/.venv/lib/python3.10/site-packages (from ipython>=6.1.0->ipywidgets) (0.7.5)\n",
      "Requirement already satisfied: prompt-toolkit!=3.0.37,<3.1.0,>=3.0.30 in /home/anthony/workspace/sagemaker-example/.venv/lib/python3.10/site-packages (from ipython>=6.1.0->ipywidgets) (3.0.39)\n",
      "Requirement already satisfied: pygments>=2.4.0 in /home/anthony/workspace/sagemaker-example/.venv/lib/python3.10/site-packages (from ipython>=6.1.0->ipywidgets) (2.15.1)\n",
      "Requirement already satisfied: stack-data in /home/anthony/workspace/sagemaker-example/.venv/lib/python3.10/site-packages (from ipython>=6.1.0->ipywidgets) (0.6.2)\n",
      "Requirement already satisfied: pexpect>4.3 in /home/anthony/workspace/sagemaker-example/.venv/lib/python3.10/site-packages (from ipython>=6.1.0->ipywidgets) (4.8.0)\n",
      "Requirement already satisfied: pyparsing!=3.0.5,>=2.0.2 in /home/anthony/workspace/sagemaker-example/.venv/lib/python3.10/site-packages (from packaging>=20.0->sagemaker) (3.0.9)\n",
      "Requirement already satisfied: six in /home/anthony/workspace/sagemaker-example/.venv/lib/python3.10/site-packages (from google-pasta->sagemaker) (1.16.0)\n",
      "Requirement already satisfied: jsonschema-specifications>=2023.03.6 in /home/anthony/workspace/sagemaker-example/.venv/lib/python3.10/site-packages (from jsonschema->sagemaker) (2023.7.1)\n",
      "Requirement already satisfied: referencing>=0.28.4 in /home/anthony/workspace/sagemaker-example/.venv/lib/python3.10/site-packages (from jsonschema->sagemaker) (0.30.0)\n",
      "Requirement already satisfied: rpds-py>=0.7.1 in /home/anthony/workspace/sagemaker-example/.venv/lib/python3.10/site-packages (from jsonschema->sagemaker) (0.9.2)\n",
      "Requirement already satisfied: python-dateutil>=2.8.2 in /home/anthony/workspace/sagemaker-example/.venv/lib/python3.10/site-packages (from pandas->sagemaker) (2.8.2)\n",
      "Requirement already satisfied: pytz>=2020.1 in /home/anthony/workspace/sagemaker-example/.venv/lib/python3.10/site-packages (from pandas->sagemaker) (2022.7.1)\n",
      "Requirement already satisfied: tzdata>=2022.1 in /home/anthony/workspace/sagemaker-example/.venv/lib/python3.10/site-packages (from pandas->sagemaker) (2023.3)\n",
      "Requirement already satisfied: ppft>=1.7.6.7 in /home/anthony/workspace/sagemaker-example/.venv/lib/python3.10/site-packages (from pathos->sagemaker) (1.7.6.7)\n",
      "Requirement already satisfied: dill>=0.3.7 in /home/anthony/workspace/sagemaker-example/.venv/lib/python3.10/site-packages (from pathos->sagemaker) (0.3.7)\n",
      "Requirement already satisfied: pox>=0.3.3 in /home/anthony/workspace/sagemaker-example/.venv/lib/python3.10/site-packages (from pathos->sagemaker) (0.3.3)\n",
      "Requirement already satisfied: multiprocess>=0.70.15 in /home/anthony/workspace/sagemaker-example/.venv/lib/python3.10/site-packages (from pathos->sagemaker) (0.70.15)\n",
      "Requirement already satisfied: contextlib2>=0.5.5 in /home/anthony/workspace/sagemaker-example/.venv/lib/python3.10/site-packages (from schema->sagemaker) (21.6.0)\n",
      "Requirement already satisfied: urllib3<1.27,>=1.25.4 in /home/anthony/workspace/sagemaker-example/.venv/lib/python3.10/site-packages (from botocore<1.32.0,>=1.31.18->boto3<2.0,>=1.26.131->sagemaker) (1.26.16)\n",
      "Requirement already satisfied: parso<0.9.0,>=0.8.3 in /home/anthony/workspace/sagemaker-example/.venv/lib/python3.10/site-packages (from jedi>=0.16->ipython>=6.1.0->ipywidgets) (0.8.3)\n",
      "Requirement already satisfied: ptyprocess>=0.5 in /home/anthony/workspace/sagemaker-example/.venv/lib/python3.10/site-packages (from pexpect>4.3->ipython>=6.1.0->ipywidgets) (0.7.0)\n",
      "Requirement already satisfied: wcwidth in /home/anthony/workspace/sagemaker-example/.venv/lib/python3.10/site-packages (from prompt-toolkit!=3.0.37,<3.1.0,>=3.0.30->ipython>=6.1.0->ipywidgets) (0.2.6)\n",
      "Requirement already satisfied: executing>=1.2.0 in /home/anthony/workspace/sagemaker-example/.venv/lib/python3.10/site-packages (from stack-data->ipython>=6.1.0->ipywidgets) (1.2.0)\n",
      "Requirement already satisfied: asttokens>=2.1.0 in /home/anthony/workspace/sagemaker-example/.venv/lib/python3.10/site-packages (from stack-data->ipython>=6.1.0->ipywidgets) (2.2.1)\n",
      "Requirement already satisfied: pure-eval in /home/anthony/workspace/sagemaker-example/.venv/lib/python3.10/site-packages (from stack-data->ipython>=6.1.0->ipywidgets) (0.2.2)\n",
      "\n",
      "\u001b[1m[\u001b[0m\u001b[34;49mnotice\u001b[0m\u001b[1;39;49m]\u001b[0m\u001b[39;49m A new release of pip is available: \u001b[0m\u001b[31;49m23.1.2\u001b[0m\u001b[39;49m -> \u001b[0m\u001b[32;49m23.3.1\u001b[0m\n",
      "\u001b[1m[\u001b[0m\u001b[34;49mnotice\u001b[0m\u001b[1;39;49m]\u001b[0m\u001b[39;49m To update, run: \u001b[0m\u001b[32;49m/home/anthony/workspace/sagemaker-example/.venv/bin/python -m pip install --upgrade pip\u001b[0m\n",
      "Note: you may need to restart the kernel to use updated packages.\n"
     ]
    }
   ],
   "source": [
    "# Torch installed elsewhere\n",
    "%pip install sagemaker xgboost python-dotenv ipywidgets"
   ]
  },
  {
   "cell_type": "code",
   "execution_count": 2,
   "metadata": {},
   "outputs": [
    {
     "data": {
      "text/plain": [
       "True"
      ]
     },
     "execution_count": 2,
     "metadata": {},
     "output_type": "execute_result"
    }
   ],
   "source": [
    "# Just storing sensitive stuff in a .env file.\n",
    "from dotenv import load_dotenv\n",
    "import os\n",
    "\n",
    "# Create a sagemaker.env file with these vars\n",
    "# SAGEMAKER_ROLE=\n",
    "# WHYLABS_API_KEY=\n",
    "# WHYLABS_DEFAULT_DATASET_ID=\n",
    "# BUCKET_ENV=\n",
    "\n",
    "load_dotenv(dotenv_path='sagemaker.env')"
   ]
  },
  {
   "cell_type": "markdown",
   "metadata": {},
   "source": [
    "## AWS Authentication\n",
    "\n",
    "Set up the AWS authentication by preparing an execution role for Sagemaker and ensuring you can use the aws cli."
   ]
  },
  {
   "cell_type": "code",
   "execution_count": 3,
   "metadata": {},
   "outputs": [],
   "source": [
    "import sagemaker\n",
    "\n",
    "# A sagemaker execution role that you previously created\n",
    "aws_role = os.getenv(\"SAGEMAKER_ROLE\")\n",
    "aws_region = \"us-west-2\"\n",
    "session = sagemaker.Session()"
   ]
  },
  {
   "cell_type": "markdown",
   "metadata": {},
   "source": [
    "## Train a model"
   ]
  },
  {
   "cell_type": "code",
   "execution_count": 4,
   "metadata": {},
   "outputs": [
    {
     "name": "stdout",
     "output_type": "stream",
     "text": [
      "[1 0 2 1 1 0 1 2 1 1 2 0 0 0 0 1 2 1 1 2 0 2 0 2 2 2 2 2 0 0]\n",
      "Accuracy: 100.00%\n"
     ]
    }
   ],
   "source": [
    "import xgboost as xgb\n",
    "from sklearn import datasets\n",
    "from sklearn.model_selection import train_test_split\n",
    "from sklearn.metrics import accuracy_score\n",
    "\n",
    "# Load dataset\n",
    "iris = datasets.load_iris()\n",
    "X = iris.data\n",
    "y = iris.target\n",
    "\n",
    "# Split the dataset into a training set and a test set\n",
    "X_train, X_test, y_train, y_test = train_test_split(X, y, test_size=0.2, random_state=42)\n",
    "\n",
    "\n",
    "# Convert the dataset into the DMatrix format used by XGBoost\n",
    "dtrain = xgb.DMatrix(X_train, label=y_train)\n",
    "dtest = xgb.DMatrix(X_test, label=y_test)\n",
    "\n",
    "# Set up the parameters for XGBoost\n",
    "# Objective is multi:softmax for multi-class classification problems\n",
    "# num_class should be set to the number of classes to predict\n",
    "# There are many other parameters you can set to customize the boosting process\n",
    "param = {\n",
    "    'max_depth': 3,  # Maximum depth of a tree\n",
    "    'eta': 0.3,      # Learning rate\n",
    "    'objective': 'multi:softmax',  # Multiclass classification problem\n",
    "    'num_class': 3}  # Number of classes in objective\n",
    "num_round = 20  # Number of boosting rounds\n",
    "\n",
    "# df = pd.DataFrame(X_train)\n",
    "\n",
    "# Train the model\n",
    "bst = xgb.train(param, dtrain, num_round)\n",
    "\n",
    "\n",
    "print(y_test)\n",
    "# Make predictions\n",
    "preds = bst.predict(dtest)\n",
    "\n",
    "# Evaluate the predictions\n",
    "accuracy = accuracy_score(y_test, preds)\n",
    "print(f\"Accuracy: {accuracy * 100:.2f}%\")"
   ]
  },
  {
   "cell_type": "markdown",
   "metadata": {},
   "source": [
    "## Prepare model\n",
    "For this example we'll package up an existing model, one of the resnet variants available in pytorch."
   ]
  },
  {
   "cell_type": "code",
   "execution_count": 5,
   "metadata": {},
   "outputs": [
    {
     "name": "stderr",
     "output_type": "stream",
     "text": [
      "/home/anthony/workspace/sagemaker-example/.venv/lib/python3.10/site-packages/xgboost/core.py:160: UserWarning: [13:07:03] WARNING: /workspace/src/c_api/c_api.cc:1240: Saving into deprecated binary model format, please consider using `json` or `ubj`. Model format will default to JSON in XGBoost 2.2 if not specified.\n",
      "  warnings.warn(smsg, UserWarning)\n"
     ]
    },
    {
     "name": "stdout",
     "output_type": "stream",
     "text": [
      "Model artifact uploaded to: s3://sagemaker-us-west-2-207285235248/sagemaker_models/xgboost-iris/model.tar.gz\n"
     ]
    }
   ],
   "source": [
    "import tarfile\n",
    "\n",
    "model_file_name = \"xgboost-model\"\n",
    "bst.save_model(model_file_name)\n",
    "\n",
    "# Set up the path in the bucket\n",
    "bucket = os.getenv(\"BUCKET_NAME\")\n",
    "key_prefix = 'sagemaker_models/xgboost-iris'\n",
    "\n",
    "\n",
    "# Then, compress it into a tar.gz file\n",
    "model_archive_name = \"model.tar.gz\"\n",
    "with tarfile.open(model_archive_name, \"w:gz\") as tar:\n",
    "    tar.add(model_file_name)\n",
    "\n",
    "upload_path = session.upload_data(path=model_archive_name, bucket=bucket, key_prefix=key_prefix)\n",
    "print(f\"Model artifact uploaded to: {upload_path}\")"
   ]
  },
  {
   "cell_type": "markdown",
   "metadata": {},
   "source": [
    "## Prepare the requirements file\n",
    "You'll need to install whylogs on the Sagemaker host. You do this by passing a requirements file with everything that you need. We'll create a dummy virtual env here just to export a requirements file for Sagemaker. "
   ]
  },
  {
   "cell_type": "code",
   "execution_count": 6,
   "metadata": {},
   "outputs": [],
   "source": [
    "# Just bundled with the requirements.txt file instead of creating dynamically\n",
    "\n",
    "# ! mkdir -p code \n",
    "# ! bash -c \"virtualenv ./code/.venv && source ./code/.venv/bin/activate && pip install xgboost==1.7.6 whylogs[proc]==1.3.8 && pip freeze > code/requirements.txt\"\n",
    "# ! rm -rf ./code/.venv"
   ]
  },
  {
   "cell_type": "markdown",
   "metadata": {},
   "source": [
    "## Create an inference.py file\n",
    "The integration happens in the custom inference logic for the Sagemaker container. The important parts are captured below.  This cell will be written to a file and deployed along with the model further down. This happens to be logging image data but it works with other kinds of data as well."
   ]
  },
  {
   "cell_type": "code",
   "execution_count": 7,
   "metadata": {},
   "outputs": [
    {
     "name": "stdout",
     "output_type": "stream",
     "text": [
      "Overwriting code/inference.py\n"
     ]
    }
   ],
   "source": [
    "%%writefile code/inference.py\n",
    "import multiprocessing\n",
    "import os\n",
    "import traceback\n",
    "import json\n",
    "import xgboost as xgb\n",
    "import pandas as pd\n",
    "from typing import List\n",
    "\n",
    "import whylogs as why\n",
    "from whylogs.api.writer import Writer, Writers\n",
    "from whylogs.api.logger.experimental.logger.actor.thread_rolling_logger import ThreadRollingLogger\n",
    "from whylogs.api.logger.experimental.logger.actor.time_util import Schedule, TimeGranularity\n",
    "\n",
    "# Initialize whylogs with your WhyLabs API key and target dataset ID. You can get an api key from the\n",
    "# settings menu of you WhyLabs account.\n",
    "why.init() # This loads credentials from the env directly\n",
    "\n",
    "def create_logger():\n",
    "    logger = ThreadRollingLogger(\n",
    "        # This should match the model type in WhyLabs. We're using a daily model here.\n",
    "        aggregate_by=TimeGranularity.Day,\n",
    "        # The profiles will be uploaded from the rolling logger to WhyLabs every 5 minutes. Data\n",
    "        # will accumulates during that time.\n",
    "        write_schedule=Schedule(cadence=TimeGranularity.Minute, interval=5),\n",
    "        writers=[Writers.get('whylabs')]\n",
    "    )\n",
    "\n",
    "    return logger\n",
    "\n",
    "logger = create_logger()\n",
    "\n",
    "def model_fn(model_dir):\n",
    "    model_file = \"xgboost-model\"\n",
    "    booster = xgb.Booster()\n",
    "    booster.load_model(os.path.join(model_dir, model_file))\n",
    "    return booster\n",
    "\n",
    "\n",
    "def input_fn(request_body, request_content_type):\n",
    "    print(f'Logger closed: {logger.is_closed()}, alive : {logger.is_alive()}')\n",
    "\n",
    "    assert request_content_type == 'application/json'\n",
    "    # Body should be a list of lists of length 4\n",
    "    body = json.loads(request_body)\n",
    "\n",
    "    if 'flush' in body and body['flush']:\n",
    "        # Utility for flushing the logger, which forces it to upload any pending profiles synchronously.\n",
    "        print(\"Flushing logger...\")\n",
    "        logger.flush()\n",
    "        print(\"Done flushing logger\")\n",
    "        return None\n",
    "\n",
    "    if 'close' in body and body['close']:\n",
    "        logger.close()\n",
    "        return None\n",
    "\n",
    "    if type(body) is not list:\n",
    "        raise ValueError(f\"Expected a list of lists, got {type(body)}\")\n",
    "\n",
    "    if len(body) == 0:\n",
    "        raise ValueError(\"Expected a list of lists, got an empty list\")\n",
    "\n",
    "    if len(body[0]) != 4:\n",
    "        raise ValueError(f\"Expected a list of lists of length 4, got a list of lists of length {len(body[0])}\")\n",
    "\n",
    "    return body\n",
    "\n",
    "\n",
    "column_names = ['sepal_length', 'sepal_width', 'petal_length', 'petal_width']\n",
    "\n",
    "def predict_fn(input_data: List[List[float]], model):\n",
    "    if input_data is None:\n",
    "        return \"\"\n",
    "\n",
    "    test = xgb.DMatrix(input_data)\n",
    "    predictions = model.predict(test)\n",
    "\n",
    "    df = pd.DataFrame(input_data, columns=column_names)\n",
    "    df['prediction'] = predictions.tolist()\n",
    "\n",
    "    try:\n",
    "        print(\"Logging prediction...\")\n",
    "        logger.log(df)\n",
    "        print(\"Done logging prediction\")\n",
    "    except Exception as e:\n",
    "        print(f\"Failed to log prediction: {e}\")\n",
    "        print(traceback.format_exc())\n",
    "\n",
    "    return predictions.tolist()\n",
    "\n",
    "\n",
    "def output_fn(prediction, content_type):\n",
    "    return json.dumps(prediction)\n",
    "\n"
   ]
  },
  {
   "cell_type": "markdown",
   "metadata": {},
   "source": [
    "# Create a XGBoost deployment"
   ]
  },
  {
   "cell_type": "code",
   "execution_count": 8,
   "metadata": {},
   "outputs": [],
   "source": [
    "from sagemaker.xgboost import XGBoostModel\n",
    "\n",
    "sagemaker_model = XGBoostModel(\n",
    "    source_dir='code',\n",
    "    entry_point='inference.py',\n",
    "    model_data=upload_path,\n",
    "    framework_version='1.7-1',\n",
    "    role=aws_role,\n",
    "    env={\n",
    "        'WHYLABS_API_KEY': os.environ['WHYLABS_API_KEY'],\n",
    "        'WHYLABS_DEFAULT_DATASET_ID': os.environ['WHYLABS_DEFAULT_DATASET_ID']\n",
    "    },\n",
    ")"
   ]
  },
  {
   "cell_type": "code",
   "execution_count": 9,
   "metadata": {},
   "outputs": [
    {
     "name": "stdout",
     "output_type": "stream",
     "text": [
      "--------------------------------------"
     ]
    },
    {
     "ename": "KeyboardInterrupt",
     "evalue": "",
     "output_type": "error",
     "traceback": [
      "\u001b[0;31m---------------------------------------------------------------------------\u001b[0m",
      "\u001b[0;31mKeyboardInterrupt\u001b[0m                         Traceback (most recent call last)",
      "\u001b[1;32m/home/anthony/workspace/sagemaker-example/use_cases/xgboost/xgboost-sagemaker.ipynb Cell 16\u001b[0m line \u001b[0;36m4\n\u001b[1;32m      <a href='vscode-notebook-cell:/home/anthony/workspace/sagemaker-example/use_cases/xgboost/xgboost-sagemaker.ipynb#X16sZmlsZQ%3D%3D?line=0'>1</a>\u001b[0m \u001b[39mfrom\u001b[39;00m \u001b[39msagemaker\u001b[39;00m\u001b[39m.\u001b[39;00m\u001b[39mserializers\u001b[39;00m \u001b[39mimport\u001b[39;00m JSONSerializer\n\u001b[1;32m      <a href='vscode-notebook-cell:/home/anthony/workspace/sagemaker-example/use_cases/xgboost/xgboost-sagemaker.ipynb#X16sZmlsZQ%3D%3D?line=1'>2</a>\u001b[0m \u001b[39mfrom\u001b[39;00m \u001b[39msagemaker\u001b[39;00m\u001b[39m.\u001b[39;00m\u001b[39mdeserializers\u001b[39;00m \u001b[39mimport\u001b[39;00m StringDeserializer\n\u001b[0;32m----> <a href='vscode-notebook-cell:/home/anthony/workspace/sagemaker-example/use_cases/xgboost/xgboost-sagemaker.ipynb#X16sZmlsZQ%3D%3D?line=3'>4</a>\u001b[0m predictor \u001b[39m=\u001b[39m sagemaker_model\u001b[39m.\u001b[39;49mdeploy(initial_instance_count\u001b[39m=\u001b[39;49m\u001b[39m1\u001b[39;49m, instance_type\u001b[39m=\u001b[39;49m\u001b[39m'\u001b[39;49m\u001b[39mml.m5.large\u001b[39;49m\u001b[39m'\u001b[39;49m)\n\u001b[1;32m      <a href='vscode-notebook-cell:/home/anthony/workspace/sagemaker-example/use_cases/xgboost/xgboost-sagemaker.ipynb#X16sZmlsZQ%3D%3D?line=4'>5</a>\u001b[0m predictor\u001b[39m.\u001b[39mserializer \u001b[39m=\u001b[39m JSONSerializer()\n\u001b[1;32m      <a href='vscode-notebook-cell:/home/anthony/workspace/sagemaker-example/use_cases/xgboost/xgboost-sagemaker.ipynb#X16sZmlsZQ%3D%3D?line=5'>6</a>\u001b[0m predictor\u001b[39m.\u001b[39mdeserializer \u001b[39m=\u001b[39m StringDeserializer()\n",
      "File \u001b[0;32m~/workspace/sagemaker-example/.venv/lib/python3.10/site-packages/sagemaker/model.py:1427\u001b[0m, in \u001b[0;36mModel.deploy\u001b[0;34m(self, initial_instance_count, instance_type, serializer, deserializer, accelerator_type, endpoint_name, tags, kms_key, wait, data_capture_config, async_inference_config, serverless_inference_config, volume_size, model_data_download_timeout, container_startup_health_check_timeout, inference_recommendation_id, explainer_config, **kwargs)\u001b[0m\n\u001b[1;32m   1424\u001b[0m \u001b[39mif\u001b[39;00m is_explainer_enabled:\n\u001b[1;32m   1425\u001b[0m     explainer_config_dict \u001b[39m=\u001b[39m explainer_config\u001b[39m.\u001b[39m_to_request_dict()\n\u001b[0;32m-> 1427\u001b[0m \u001b[39mself\u001b[39;49m\u001b[39m.\u001b[39;49msagemaker_session\u001b[39m.\u001b[39;49mendpoint_from_production_variants(\n\u001b[1;32m   1428\u001b[0m     name\u001b[39m=\u001b[39;49m\u001b[39mself\u001b[39;49m\u001b[39m.\u001b[39;49mendpoint_name,\n\u001b[1;32m   1429\u001b[0m     production_variants\u001b[39m=\u001b[39;49m[production_variant],\n\u001b[1;32m   1430\u001b[0m     tags\u001b[39m=\u001b[39;49mtags,\n\u001b[1;32m   1431\u001b[0m     kms_key\u001b[39m=\u001b[39;49mkms_key,\n\u001b[1;32m   1432\u001b[0m     wait\u001b[39m=\u001b[39;49mwait,\n\u001b[1;32m   1433\u001b[0m     data_capture_config_dict\u001b[39m=\u001b[39;49mdata_capture_config_dict,\n\u001b[1;32m   1434\u001b[0m     explainer_config_dict\u001b[39m=\u001b[39;49mexplainer_config_dict,\n\u001b[1;32m   1435\u001b[0m     async_inference_config_dict\u001b[39m=\u001b[39;49masync_inference_config_dict,\n\u001b[1;32m   1436\u001b[0m )\n\u001b[1;32m   1438\u001b[0m \u001b[39mif\u001b[39;00m \u001b[39mself\u001b[39m\u001b[39m.\u001b[39mpredictor_cls:\n\u001b[1;32m   1439\u001b[0m     predictor \u001b[39m=\u001b[39m \u001b[39mself\u001b[39m\u001b[39m.\u001b[39mpredictor_cls(\u001b[39mself\u001b[39m\u001b[39m.\u001b[39mendpoint_name, \u001b[39mself\u001b[39m\u001b[39m.\u001b[39msagemaker_session)\n",
      "File \u001b[0;32m~/workspace/sagemaker-example/.venv/lib/python3.10/site-packages/sagemaker/session.py:4727\u001b[0m, in \u001b[0;36mSession.endpoint_from_production_variants\u001b[0;34m(self, name, production_variants, tags, kms_key, wait, data_capture_config_dict, async_inference_config_dict, explainer_config_dict)\u001b[0m\n\u001b[1;32m   4724\u001b[0m LOGGER\u001b[39m.\u001b[39minfo(\u001b[39m\"\u001b[39m\u001b[39mCreating endpoint-config with name \u001b[39m\u001b[39m%s\u001b[39;00m\u001b[39m\"\u001b[39m, name)\n\u001b[1;32m   4725\u001b[0m \u001b[39mself\u001b[39m\u001b[39m.\u001b[39msagemaker_client\u001b[39m.\u001b[39mcreate_endpoint_config(\u001b[39m*\u001b[39m\u001b[39m*\u001b[39mconfig_options)\n\u001b[0;32m-> 4727\u001b[0m \u001b[39mreturn\u001b[39;00m \u001b[39mself\u001b[39;49m\u001b[39m.\u001b[39;49mcreate_endpoint(\n\u001b[1;32m   4728\u001b[0m     endpoint_name\u001b[39m=\u001b[39;49mname, config_name\u001b[39m=\u001b[39;49mname, tags\u001b[39m=\u001b[39;49mendpoint_tags, wait\u001b[39m=\u001b[39;49mwait\n\u001b[1;32m   4729\u001b[0m )\n",
      "File \u001b[0;32m~/workspace/sagemaker-example/.venv/lib/python3.10/site-packages/sagemaker/session.py:4072\u001b[0m, in \u001b[0;36mSession.create_endpoint\u001b[0;34m(self, endpoint_name, config_name, tags, wait)\u001b[0m\n\u001b[1;32m   4068\u001b[0m \u001b[39mself\u001b[39m\u001b[39m.\u001b[39msagemaker_client\u001b[39m.\u001b[39mcreate_endpoint(\n\u001b[1;32m   4069\u001b[0m     EndpointName\u001b[39m=\u001b[39mendpoint_name, EndpointConfigName\u001b[39m=\u001b[39mconfig_name, Tags\u001b[39m=\u001b[39mtags\n\u001b[1;32m   4070\u001b[0m )\n\u001b[1;32m   4071\u001b[0m \u001b[39mif\u001b[39;00m wait:\n\u001b[0;32m-> 4072\u001b[0m     \u001b[39mself\u001b[39;49m\u001b[39m.\u001b[39;49mwait_for_endpoint(endpoint_name)\n\u001b[1;32m   4073\u001b[0m \u001b[39mreturn\u001b[39;00m endpoint_name\n",
      "File \u001b[0;32m~/workspace/sagemaker-example/.venv/lib/python3.10/site-packages/sagemaker/session.py:4410\u001b[0m, in \u001b[0;36mSession.wait_for_endpoint\u001b[0;34m(self, endpoint, poll)\u001b[0m\n\u001b[1;32m   4396\u001b[0m \u001b[39mdef\u001b[39;00m \u001b[39mwait_for_endpoint\u001b[39m(\u001b[39mself\u001b[39m, endpoint, poll\u001b[39m=\u001b[39m\u001b[39m30\u001b[39m):\n\u001b[1;32m   4397\u001b[0m \u001b[39m    \u001b[39m\u001b[39m\"\"\"Wait for an Amazon SageMaker endpoint deployment to complete.\u001b[39;00m\n\u001b[1;32m   4398\u001b[0m \n\u001b[1;32m   4399\u001b[0m \u001b[39m    Args:\u001b[39;00m\n\u001b[0;32m   (...)\u001b[0m\n\u001b[1;32m   4408\u001b[0m \u001b[39m        dict: Return value from the ``DescribeEndpoint`` API.\u001b[39;00m\n\u001b[1;32m   4409\u001b[0m \u001b[39m    \"\"\"\u001b[39;00m\n\u001b[0;32m-> 4410\u001b[0m     desc \u001b[39m=\u001b[39m _wait_until(\u001b[39mlambda\u001b[39;49;00m: _deploy_done(\u001b[39mself\u001b[39;49m\u001b[39m.\u001b[39;49msagemaker_client, endpoint), poll)\n\u001b[1;32m   4411\u001b[0m     status \u001b[39m=\u001b[39m desc[\u001b[39m\"\u001b[39m\u001b[39mEndpointStatus\u001b[39m\u001b[39m\"\u001b[39m]\n\u001b[1;32m   4413\u001b[0m     \u001b[39mif\u001b[39;00m status \u001b[39m!=\u001b[39m \u001b[39m\"\u001b[39m\u001b[39mInService\u001b[39m\u001b[39m\"\u001b[39m:\n",
      "File \u001b[0;32m~/workspace/sagemaker-example/.venv/lib/python3.10/site-packages/sagemaker/session.py:6572\u001b[0m, in \u001b[0;36m_wait_until\u001b[0;34m(callable_fn, poll)\u001b[0m\n\u001b[1;32m   6570\u001b[0m \u001b[39mtry\u001b[39;00m:\n\u001b[1;32m   6571\u001b[0m     elapsed_time \u001b[39m+\u001b[39m\u001b[39m=\u001b[39m poll\n\u001b[0;32m-> 6572\u001b[0m     time\u001b[39m.\u001b[39;49msleep(poll)\n\u001b[1;32m   6573\u001b[0m     result \u001b[39m=\u001b[39m callable_fn()\n\u001b[1;32m   6574\u001b[0m \u001b[39mexcept\u001b[39;00m botocore\u001b[39m.\u001b[39mexceptions\u001b[39m.\u001b[39mClientError \u001b[39mas\u001b[39;00m err:\n\u001b[1;32m   6575\u001b[0m     \u001b[39m# For initial 5 mins we accept/pass AccessDeniedException.\u001b[39;00m\n\u001b[1;32m   6576\u001b[0m     \u001b[39m# The reason is to await tag propagation to avoid false AccessDenied claims for an\u001b[39;00m\n\u001b[1;32m   6577\u001b[0m     \u001b[39m# access policy based on resource tags, The caveat here is for true AccessDenied\u001b[39;00m\n\u001b[1;32m   6578\u001b[0m     \u001b[39m# cases the routine will fail after 5 mins\u001b[39;00m\n",
      "\u001b[0;31mKeyboardInterrupt\u001b[0m: "
     ]
    }
   ],
   "source": [
    "from sagemaker.serializers import JSONSerializer\n",
    "from sagemaker.deserializers import StringDeserializer\n",
    "\n",
    "predictor = sagemaker_model.deploy(initial_instance_count=1, instance_type='ml.m5.large')\n",
    "predictor.serializer = JSONSerializer()\n",
    "predictor.deserializer = StringDeserializer()"
   ]
  },
  {
   "cell_type": "markdown",
   "metadata": {},
   "source": [
    "# Make predictions"
   ]
  },
  {
   "cell_type": "code",
   "execution_count": null,
   "metadata": {},
   "outputs": [],
   "source": [
    "def predict(data):\n",
    "    return predictor.predict(data, initial_args={'ContentType': 'application/json'})"
   ]
  },
  {
   "cell_type": "code",
   "execution_count": null,
   "metadata": {},
   "outputs": [
    {
     "data": {
      "text/plain": [
       "'[1.0, 0.0, 2.0, 1.0, 1.0, 0.0, 1.0, 2.0, 1.0, 1.0, 2.0, 0.0, 0.0, 0.0, 0.0, 1.0, 2.0, 1.0, 1.0, 2.0, 0.0, 2.0, 0.0, 2.0, 2.0, 2.0, 2.0, 2.0, 0.0, 0.0]'"
      ]
     },
     "execution_count": 18,
     "metadata": {},
     "output_type": "execute_result"
    }
   ],
   "source": [
    "# Predict with our test data\n",
    "\n",
    "predict(X_test)"
   ]
  },
  {
   "cell_type": "markdown",
   "metadata": {},
   "source": [
    "## Force the logger to upload\n",
    "\n",
    "> ⚠️ These things really only reliably work if you have a single instance behind your prediction endpoint. Otherwise you'll have to make sure these requests get to each endpoint individually.\n",
    "\n",
    "This forces the logger to upload (see the inference.py code) which uploads any remaining data in the logger before we close down the Sagemaker endpoint. The rolling logger typically uploads data on a predefined interval so you can do something like this to make sure you don't clip your profile uploads before shutting things down. Sagemaker doesn't provide any \"on close\" hooks to make this transparent.\n"
   ]
  },
  {
   "cell_type": "code",
   "execution_count": null,
   "metadata": {},
   "outputs": [
    {
     "data": {
      "text/plain": [
       "'\"\"'"
      ]
     },
     "execution_count": 19,
     "metadata": {},
     "output_type": "execute_result"
    }
   ],
   "source": [
    "# predictor.predict({'flush':True}, initial_args={'ContentType': 'application/json'})"
   ]
  },
  {
   "cell_type": "markdown",
   "metadata": {},
   "source": [
    "In addition, you can close the logger. This also forces an upload but results in the logger no longer being active, so you should only do this before you're about to tear down the endpoint since it let's you synchronously wait for any pending uploads to finish.\n",
    "\n",
    "Remember, these don't automatically work. They only work because we set up the `inference.py`` file to check for these payloads and call the right methods on the logger."
   ]
  },
  {
   "cell_type": "code",
   "execution_count": null,
   "metadata": {},
   "outputs": [],
   "source": [
    "# predictor.predict({'close':True}, initial_args={'ContentType': 'application/json'})"
   ]
  },
  {
   "cell_type": "markdown",
   "metadata": {},
   "source": [
    "# Clean up endpoint"
   ]
  },
  {
   "cell_type": "code",
   "execution_count": null,
   "metadata": {},
   "outputs": [
    {
     "ename": "NameError",
     "evalue": "name 'predictor' is not defined",
     "output_type": "error",
     "traceback": [
      "\u001b[0;31m---------------------------------------------------------------------------\u001b[0m",
      "\u001b[0;31mNameError\u001b[0m                                 Traceback (most recent call last)",
      "\u001b[1;32m/home/anthony/workspace/sagemaker-example/use_cases/xgboost/xgboost-sagemaker.ipynb Cell 25\u001b[0m line \u001b[0;36m1\n\u001b[0;32m----> <a href='vscode-notebook-cell:/home/anthony/workspace/sagemaker-example/use_cases/xgboost/xgboost-sagemaker.ipynb#X33sZmlsZQ%3D%3D?line=0'>1</a>\u001b[0m predictor\u001b[39m.\u001b[39mdelete_endpoint()\n",
      "\u001b[0;31mNameError\u001b[0m: name 'predictor' is not defined"
     ]
    }
   ],
   "source": [
    "# predictor.delete_endpoint()"
   ]
  }
 ],
 "metadata": {
  "kernelspec": {
   "display_name": ".venv",
   "language": "python",
   "name": "python3"
  },
  "language_info": {
   "codemirror_mode": {
    "name": "ipython",
    "version": 3
   },
   "file_extension": ".py",
   "mimetype": "text/x-python",
   "name": "python",
   "nbconvert_exporter": "python",
   "pygments_lexer": "ipython3",
   "version": "3.10.11"
  },
  "orig_nbformat": 4
 },
 "nbformat": 4,
 "nbformat_minor": 2
}
